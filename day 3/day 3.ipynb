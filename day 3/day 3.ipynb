{
 "cells": [
  {
   "cell_type": "code",
   "execution_count": 2,
   "id": "b151ec54",
   "metadata": {},
   "outputs": [],
   "source": [
    "\n"
   ]
  },
  {
   "cell_type": "markdown",
   "id": "bc273848",
   "metadata": {},
   "source": [
    "#  Problem 1:\n",
    "\n",
    "--- Day 3: Mull It Over ---\n",
    "\"Our computers are having issues, so I have no idea if we have any Chief Historians in stock! You're welcome to check the warehouse, though,\" says the mildly flustered shopkeeper at the North Pole Toboggan Rental Shop. The Historians head out to take a look.\n",
    "\n",
    "The shopkeeper turns to you. \"Any chance you can see why our computers are having issues again?\"\n",
    "\n",
    "The computer appears to be trying to run a program, but its memory (your puzzle input) is corrupted. All of the instructions have been jumbled up!\n",
    "\n",
    "It seems like the goal of the program is just to multiply some numbers. It does that with instructions like mul(X,Y), where X and Y are each 1-3 digit numbers. For instance, mul(44,46) multiplies 44 by 46 to get a result of 2024. Similarly, mul(123,4) would multiply 123 by 4.\n",
    "\n",
    "However, because the program's memory has been corrupted, there are also many invalid characters that should be ignored, even if they look like part of a mul instruction. Sequences like mul(4*, mul(6,9!, ?(12,34), or mul ( 2 , 4 ) do nothing.\n",
    "\n",
    "For example, consider the following section of corrupted memory:\n",
    "\n",
    "xmul(2,4)%&mul[3,7]!@^do_not_mul(5,5)+mul(32,64]then(mul(11,8)mul(8,5))\n",
    "Only the four highlighted sections are real mul instructions. Adding up the result of each instruction produces 161 (2*4 + 5*5 + 11*8 + 8*5).\n",
    "\n",
    "Scan the corrupted memory for uncorrupted mul instructions. What do you get if you add up all of the results of the multiplications?"
   ]
  },
  {
   "cell_type": "code",
   "execution_count": 5,
   "id": "c2025906",
   "metadata": {},
   "outputs": [
    {
     "name": "stdout",
     "output_type": "stream",
     "text": [
      "Sum of all multiplication results: 181345830\n"
     ]
    }
   ],
   "source": [
    "def solve_corrupted_memory(input_str):\n",
    "    import re\n",
    "    # Corrected regex pattern\n",
    "    pattern = r'mul\\((\\d{1,3})\\s*,\\s*(\\d{1,3})\\)'\n",
    "    # Find all matches\n",
    "    matches = re.findall(pattern, input_str)\n",
    "    # Calculate the sum of products\n",
    "    result = sum(int(x) * int(y) for x, y in matches)\n",
    "    return result\n",
    "\n",
    "# Read input from a text file\n",
    "with open(\"input.txt\", \"r\") as file:\n",
    "    input_data = file.read()\n",
    "\n",
    "# Pass the file contents to the function\n",
    "result = solve_corrupted_memory(input_data)\n",
    "print(f\"Sum of all multiplication results: {result}\")\n"
   ]
  },
  {
   "cell_type": "markdown",
   "id": "c035ec50",
   "metadata": {},
   "source": [
    "# Problem 2\n",
    "\n",
    "--- Part Two ---\n",
    "As you scan through the corrupted memory, you notice that some of the conditional statements are also still intact. If you handle some of the uncorrupted conditional statements in the program, you might be able to get an even more accurate result.\n",
    "\n",
    "There are two new instructions you'll need to handle:\n",
    "\n",
    "The do() instruction enables future mul instructions.\n",
    "The don't() instruction disables future mul instructions.\n",
    "Only the most recent do() or don't() instruction applies. At the beginning of the program, mul instructions are enabled.\n",
    "\n",
    "For example:\n",
    "\n",
    "xmul(2,4)&mul[3,7]!^don't()_mul(5,5)+mul(32,64](mul(11,8)undo()?mul(8,5))\n",
    "This corrupted memory is similar to the example from before, but this time the mul(5,5) and mul(11,8) instructions are disabled because there is a don't() instruction before them. The other mul instructions function normally, including the one at the end that gets re-enabled by a do() instruction.\n",
    "\n",
    "This time, the sum of the results is 48 (2*4 + 8*5).\n",
    "\n",
    "Handle the new instructions; what do you get if you add up all of the results of just the enabled multiplications?"
   ]
  },
  {
   "cell_type": "code",
   "execution_count": 6,
   "id": "62d7ff42",
   "metadata": {},
   "outputs": [
    {
     "name": "stdout",
     "output_type": "stream",
     "text": [
      "Total result: 98729041\n"
     ]
    }
   ],
   "source": [
    "import re\n",
    "\n",
    "def solve_corrupted_memory_part_two(input_str):\n",
    "    # Define patterns\n",
    "    mul_pattern = r'mul\\((\\d+),\\s*(\\d+)\\)'\n",
    "    do_pattern = r'do\\(\\)'\n",
    "    dont_pattern = r'don\\'t\\(\\)'\n",
    "    \n",
    "    # Initialize variables\n",
    "    mul_enabled = True\n",
    "    total_result = 0\n",
    "    \n",
    "    # Find all matches\n",
    "    mul_matches = list(re.finditer(mul_pattern, input_str))\n",
    "    do_matches = list(re.finditer(do_pattern, input_str))\n",
    "    dont_matches = list(re.finditer(dont_pattern, input_str))\n",
    "    \n",
    "    # Combine and sort matches by start position\n",
    "    all_matches = sorted(\n",
    "        mul_matches + do_matches + dont_matches,\n",
    "        key=lambda x: x.start()\n",
    "    )\n",
    "\n",
    "    # Process matches\n",
    "    for match in all_matches:\n",
    "        if match.group() == 'do()':\n",
    "            mul_enabled = True\n",
    "        elif match.group() == \"don't()\":\n",
    "            mul_enabled = False\n",
    "        elif match.group().startswith('mul('):\n",
    "            # Only compute if multiplication is currently enabled\n",
    "            if mul_enabled:\n",
    "                x, y = match.groups()\n",
    "                total_result += int(x) * int(y)\n",
    "\n",
    "    return total_result\n",
    "\n",
    "# Read input from a text file\n",
    "with open(\"input.txt\", \"r\") as file:\n",
    "    input_data = file.read()\n",
    "\n",
    "# Call the function and print the result\n",
    "result = solve_corrupted_memory_part_two(input_data)\n",
    "print(f\"Total result: {result}\")\n"
   ]
  },
  {
   "cell_type": "code",
   "execution_count": null,
   "id": "081cf05d",
   "metadata": {},
   "outputs": [],
   "source": []
  }
 ],
 "metadata": {
  "kernelspec": {
   "display_name": "Python 3 (ipykernel)",
   "language": "python",
   "name": "python3"
  },
  "language_info": {
   "codemirror_mode": {
    "name": "ipython",
    "version": 3
   },
   "file_extension": ".py",
   "mimetype": "text/x-python",
   "name": "python",
   "nbconvert_exporter": "python",
   "pygments_lexer": "ipython3",
   "version": "3.11.5"
  }
 },
 "nbformat": 4,
 "nbformat_minor": 5
}
